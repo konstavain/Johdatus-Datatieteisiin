{
 "cells": [
  {
   "cell_type": "markdown",
   "id": "ff38b3f9-836b-4020-aba4-23144816a6ae",
   "metadata": {},
   "source": [
    "OPK luentoviikko 1"
   ]
  },
  {
   "cell_type": "markdown",
   "id": "52ca8288-0b9d-474d-a0d1-c14687440906",
   "metadata": {},
   "source": [
    "Ensimmäisellä luentoviikolla käsiteltiin alustus kurssin Johdatus Datatieteisiin suorittamisesta ja sisällöstä. Kurssi xxxx\n",
    "\n",
    "Oppimispäiväkirjassa aion pyrkiä käsittelemään kurssin aiheita soveltaen niitä omiin kokemuksiini, aikaisempiin opintoihin sekä myös tulevaisuuden potentiaalisiin työtehtäviin. Kurssin aiheita käsitellessä nelikentän muodossa tunnistin heti, että osa kurssin sisällöstä tulee olemaan huomattavasti haastavampaa kuin toiset. \"Modern data scientist\"-kuva esitteli neljä osa-aluetta: \n",
    "\n",
    "Itse datatiede lähti liikkeelle valtavirtaan vasta 2012-2013 eli kyseessä on ainakin valtavirtailmiönä mielestäni tuore applikaatio, joka kaiken lisäksi sai alkunsa Harvard Business Review-artikkelista. Itse perusidea on mielestäni hyvin käsitettävissä, kerätään dataa (input) ja saadaan siitä jotain hyödyllistä irti (output). Tässä välissä ovat datatieteen mekanismit. Hyvä tiivistys oli luennolla mainittu etnografinen tutkimus datan muodossa."
   ]
  }
 ],
 "metadata": {
  "kernelspec": {
   "display_name": "Python 3 (ipykernel)",
   "language": "python",
   "name": "python3"
  },
  "language_info": {
   "codemirror_mode": {
    "name": "ipython",
    "version": 3
   },
   "file_extension": ".py",
   "mimetype": "text/x-python",
   "name": "python",
   "nbconvert_exporter": "python",
   "pygments_lexer": "ipython3",
   "version": "3.10.4"
  }
 },
 "nbformat": 4,
 "nbformat_minor": 5
}
